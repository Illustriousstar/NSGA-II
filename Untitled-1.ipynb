{
 "cells": [
  {
   "cell_type": "code",
   "execution_count": 57,
   "metadata": {},
   "outputs": [],
   "source": [
    "import math\n",
    "import random\n",
    "import matplotlib.pyplot as plt\n",
    "import pandas as pd\n",
    "import numpy as np\n",
    "from functools import partial\n",
    "\n",
    "from restrictions import restrict_solution\n",
    "from metrics import calculate_objective, calculate_crowding_distance\n",
    "from reproduction import crossover, mutate, selection"
   ]
  },
  {
   "cell_type": "code",
   "execution_count": 58,
   "metadata": {},
   "outputs": [],
   "source": [
    "#################\n",
    "# 参数与数据设置\n",
    "#################\n",
    "\n",
    "iter_max = 100\n",
    "num_population = 10000\n",
    "prob_crossover = 0.9\n",
    "prob_mutate = 0.1\n",
    "\n",
    "airline_transport_num=pd.read_csv('test.csv',header=None)\n",
    "airline_people_raw = pd.read_excel(\"高峰小时旅客运输量.xlsx\", header=None)\n",
    "airline_union_raw=pd.read_excel('所属航系.xlsx')\n",
    "airline_building_max=pd.read_excel('航站楼最大客流量.xlsx').values[:,2].squeeze().astype(int)\n",
    "num_building = len(airline_building_max) # 航站楼数量\n",
    "num_airline = len(airline_people_raw) # 航空公司数量"
   ]
  },
  {
   "cell_type": "code",
   "execution_count": 59,
   "metadata": {},
   "outputs": [],
   "source": [
    "\n",
    "# 航空公司之间转运的人流量\n",
    "airline2num=dict(zip(airline_transport_num[0],airline_transport_num[1]))\n",
    "\n",
    "# 航系对应的航空公司\n",
    "airline_union=airline_union_raw.values.transpose()\n",
    "airline_union=[list(filter(lambda x: not pd.isnull(x) == True, i)) for i in airline_union]\n",
    "num_airline_union = len(airline_union) # 航系数量\n",
    "# 获取全部航空公司名，可根据顺序判断所属航系\n",
    "airline_list = [airline for union in airline_union for airline in union]\n",
    "# 根据航系的航空公司数量，按顺序分配航系id\n",
    "airline_union_count = [len(union) for union in airline_union]\n",
    "airline_union_id = np.zeros(num_airline, dtype=int)\n",
    "cumsum = 0\n",
    "for i, count in enumerate(airline_union_count):\n",
    "    airline_union_id[cumsum:cumsum+count] = i\n",
    "    cumsum += count\n",
    "airline_union2d = (airline_union_id.reshape(-1, 1) == airline_union_id.reshape(1, -1)).astype(int)\n",
    "\n",
    "airline_transport_num = []\n",
    "for i in range(num_airline):\n",
    "    airline_transport_num.append([])\n",
    "    for j in range(num_airline):\n",
    "        airline_transport_num[i].append(airline2num.get(airline_list[i]+'_'+airline_list[j],0) / 2.)\n",
    "airline_transport_num = np.array(airline_transport_num,dtype=int)\n",
    "\n",
    "# 航空公司高峰人流量\n",
    "airline_people_dict = dict(zip(airline_people_raw[0], airline_people_raw[1]))\n",
    "airline_people_num = np.array([airline_people_dict[airline] for airline in airline_list])"
   ]
  },
  {
   "cell_type": "code",
   "execution_count": 60,
   "metadata": {},
   "outputs": [],
   "source": [
    "# 生成初始解，[]中的值为航站楼的编号\n",
    "def init_solution(num_airline:int, num_building:int, num_population:int=1, restriction_func=None):\n",
    "    # 创建空的解集\n",
    "    solution = np.zeros((0, num_airline), dtype=int)\n",
    "    # 生成初始解\n",
    "    while solution.shape[0] < num_population:\n",
    "        # 生成一批解\n",
    "        proposal = np.random.randint(0, num_building, size=(num_population, num_airline))\n",
    "        # 检查约束条件\n",
    "        if restriction_func is not None:\n",
    "            proposal = proposal[restriction_func(proposal)]\n",
    "        # 将可行解加入解集\n",
    "        solution = np.concatenate((solution, proposal), axis=0)\n",
    "        # 去重\n",
    "        solution = np.unique(solution, axis=0)\n",
    "    # 取出指定数量的解\n",
    "    solution = solution[:num_population]\n",
    "    return solution\n",
    "    "
   ]
  },
  {
   "cell_type": "code",
   "execution_count": 61,
   "metadata": {},
   "outputs": [],
   "source": [
    "# 限制函数使用偏函数，将限制函数的参数固定\n",
    "restrict_func_hard = partial(restrict_solution, airline_people_num=airline_people_num, airline_building_max=airline_building_max, hard_restriction=True)\n",
    "restrict_func_soft = partial(restrict_solution, airline_people_num=airline_people_num, airline_building_max=airline_building_max, hard_restriction=False)\n",
    "\n",
    "solution = init_solution(num_airline, num_building, num_population, restrict_func_hard)"
   ]
  },
  {
   "cell_type": "code",
   "execution_count": 84,
   "metadata": {},
   "outputs": [],
   "source": [
    "solution=pd.read_excel('所属航系.xlsx',sheet_name='Sheet3',header=None)\n",
    "solution=solution.replace('B',1)\n",
    "solution=solution.replace('A',0)\n",
    "solution=solution.replace('C',2)"
   ]
  },
  {
   "cell_type": "code",
   "execution_count": 106,
   "metadata": {},
   "outputs": [],
   "source": [
    "solution=solution.reshape(1,57)\n",
    "\n",
    "# solution=np.concatenate((solution,solution),axis=0)\n",
    "# solution"
   ]
  },
  {
   "cell_type": "code",
   "execution_count": 108,
   "metadata": {},
   "outputs": [
    {
     "ename": "AssertionError",
     "evalue": "num_chromo must be greater than 2",
     "output_type": "error",
     "traceback": [
      "\u001b[1;31m---------------------------------------------------------------------------\u001b[0m",
      "\u001b[1;31mAssertionError\u001b[0m                            Traceback (most recent call last)",
      "Cell \u001b[1;32mIn[108], line 10\u001b[0m\n\u001b[0;32m      8\u001b[0m crowding_distance \u001b[39m=\u001b[39m calculate_crowding_distance(objective)\n\u001b[0;32m      9\u001b[0m \u001b[39m# 选择\u001b[39;00m\n\u001b[1;32m---> 10\u001b[0m solution \u001b[39m=\u001b[39m selection(solution, objective, crowding_distance, num_population)\n\u001b[0;32m     12\u001b[0m \u001b[39m# 计算最优评价值和平均评价值\u001b[39;00m\n\u001b[0;32m     13\u001b[0m objective_min \u001b[39m=\u001b[39m np\u001b[39m.\u001b[39mmin(objective, axis\u001b[39m=\u001b[39m\u001b[39m0\u001b[39m)\n",
      "File \u001b[1;32md:\\python\\玉藻2\\玉藻\\reproduction.py:93\u001b[0m, in \u001b[0;36mselection\u001b[1;34m(solution, objective, crowding_distance, num_chromo_out)\u001b[0m\n\u001b[0;32m     91\u001b[0m \u001b[39massert\u001b[39;00m \u001b[39mlen\u001b[39m(objective\u001b[39m.\u001b[39mshape) \u001b[39m==\u001b[39m \u001b[39m2\u001b[39m, \u001b[39m'\u001b[39m\u001b[39mobjective must be 2D array\u001b[39m\u001b[39m'\u001b[39m\n\u001b[0;32m     92\u001b[0m num_chromo, num_airline \u001b[39m=\u001b[39m solution\u001b[39m.\u001b[39mshape\n\u001b[1;32m---> 93\u001b[0m \u001b[39massert\u001b[39;00m num_chromo \u001b[39m>\u001b[39m\u001b[39m=\u001b[39m \u001b[39m2\u001b[39m, \u001b[39m'\u001b[39m\u001b[39mnum_chromo must be greater than 2\u001b[39m\u001b[39m'\u001b[39m\n\u001b[0;32m     94\u001b[0m \u001b[39massert\u001b[39;00m num_chromo \u001b[39m>\u001b[39m\u001b[39m=\u001b[39m num_chromo_out, \u001b[39m'\u001b[39m\u001b[39mnum_chromo must be greater than num_chromo_out\u001b[39m\u001b[39m'\u001b[39m\n\u001b[0;32m     96\u001b[0m \u001b[39m# 选择种群，批量处理\u001b[39;00m\n",
      "\u001b[1;31mAssertionError\u001b[0m: num_chromo must be greater than 2"
     ]
    }
   ],
   "source": [
    "\n",
    "graph_data=pd.DataFrame(columns=['people_num','airline'])\n",
    "# solution_crossover = crossover(solution, prob_crossover, restrict_func_hard)\n",
    "# solultion_mutate = mutate(solution, prob_mutate, num_building, restrict_func_soft)\n",
    "# solution = np.concatenate((solution, solution_crossover, solultion_mutate), axis=0)\n",
    "# 评价解的目标值\n",
    "objective = calculate_objective(solution, airline_transport_num, airline_union2d, num_building, num_airline_union)\n",
    "# 计算拥挤度\n",
    "# crowding_distance = calculate_crowding_distance(objective)\n",
    "# # 选择\n",
    "# solution = selection(solution, objective, crowding_distance, num_population)\n",
    "\n",
    "# 计算最优评价值和平均评价值\n",
    "objective_min = np.min(objective, axis=0)\n",
    "objective_mean = np.mean(objective, axis=0)\n",
    "objective_max = np.max(objective, axis=0)\n",
    "graph_data.loc[len(graph_data)]=objective_min\n",
    "print('iter_num: %d, objective_min: %s, objective_mean: %s, objective_max: %s' % (iter_num, objective_min, objective_mean, objective_max))"
   ]
  },
  {
   "cell_type": "code",
   "execution_count": 62,
   "metadata": {},
   "outputs": [
    {
     "name": "stdout",
     "output_type": "stream",
     "text": [
      "iter_num: 0, objective_min: [166355    352], objective_mean: [310979.60298156    460.92193017], objective_max: [366661    496]\n",
      "iter_num: 1, objective_min: [165716    348], objective_mean: [300326.30732044    457.0890884 ], objective_max: [361821    496]\n",
      "iter_num: 2, objective_min: [137286    342], objective_mean: [290241.27292426    454.01713779], objective_max: [364195    496]\n",
      "iter_num: 3, objective_min: [137274    338], objective_mean: [280383.92174041    451.09100753], objective_max: [364195    496]\n",
      "iter_num: 4, objective_min: [137274    330], objective_mean: [271428.72769604    448.02268787], objective_max: [361463    496]\n",
      "iter_num: 5, objective_min: [135227    336], objective_mean: [264134.18812175    448.24884929], objective_max: [360786    494]\n",
      "iter_num: 6, objective_min: [135037    326], objective_mean: [264665.13673952    446.81167553], objective_max: [361190    494]\n",
      "iter_num: 7, objective_min: [116010    310], objective_mean: [255382.21398913    442.89915966], objective_max: [361712    496]\n",
      "iter_num: 8, objective_min: [116010    286], objective_mean: [260970.73087735    442.23908862], objective_max: [361720    496]\n",
      "iter_num: 9, objective_min: [114895    286], objective_mean: [252178.31843188    438.46875155], objective_max: [362956    496]\n",
      "iter_num: 10, objective_min: [120083    262], objective_mean: [260093.03957172    437.46030493], objective_max: [362956    496]\n",
      "iter_num: 11, objective_min: [120083    254], objective_mean: [251639.14402093    433.42273131], objective_max: [361648    496]\n",
      "iter_num: 12, objective_min: [135105    252], objective_mean: [260459.27475517    430.59323375], objective_max: [361648    492]\n",
      "iter_num: 13, objective_min: [112494    248], objective_mean: [258366.04592241    429.58254157], objective_max: [362050    492]\n",
      "iter_num: 14, objective_min: [143972    230], objective_mean: [256600.00638614    428.46722772], objective_max: [361042    492]\n",
      "iter_num: 15, objective_min: [107260    230], objective_mean: [252531.77046501    427.00846828], objective_max: [356894    492]\n",
      "iter_num: 16, objective_min: [105945    254], objective_mean: [243293.68415566    425.27757371], objective_max: [356468    492]\n",
      "iter_num: 17, objective_min: [95507   252], objective_mean: [238553.75773863    424.9357022 ], objective_max: [354992    492]\n",
      "iter_num: 18, objective_min: [92058   246], objective_mean: [239105.25608845    421.91274466], objective_max: [354992    490]\n",
      "iter_num: 19, objective_min: [120554    240], objective_mean: [243447.65259836    418.54471946], objective_max: [355103    492]\n",
      "iter_num: 20, objective_min: [100456    232], objective_mean: [247574.62934248    417.60797177], objective_max: [356653    492]\n",
      "iter_num: 21, objective_min: [112447    164], objective_mean: [260378.36997266    413.95038528], objective_max: [356934    492]\n",
      "iter_num: 22, objective_min: [153115    200], objective_mean: [264280.77340072    412.18502552], objective_max: [357850    492]\n",
      "iter_num: 23, objective_min: [125402    164], objective_mean: [259982.38249031    410.40902315], objective_max: [357850    488]\n",
      "iter_num: 24, objective_min: [127363    186], objective_mean: [258588.15797332    405.62472626], objective_max: [356653    484]\n",
      "iter_num: 25, objective_min: [126912    186], objective_mean: [256742.73388939    402.23105948], objective_max: [360464    486]\n",
      "iter_num: 26, objective_min: [141829    176], objective_mean: [256771.08535436    397.85597381], objective_max: [360464    482]\n",
      "iter_num: 27, objective_min: [123858    176], objective_mean: [251543.00124819    396.79624544], objective_max: [355475    484]\n",
      "iter_num: 28, objective_min: [124969    176], objective_mean: [249664.11325926    394.17469729], objective_max: [355475    488]\n",
      "iter_num: 29, objective_min: [121345    176], objective_mean: [249539.14616419    388.40961816], objective_max: [352843    478]\n",
      "iter_num: 30, objective_min: [146005    176], objective_mean: [249935.23518241    381.9808096 ], objective_max: [352843    476]\n",
      "iter_num: 31, objective_min: [134348    176], objective_mean: [252209.48369728    377.15126134], objective_max: [352103    474]\n",
      "iter_num: 32, objective_min: [133112    162], objective_mean: [252590.4801361     373.67467227], objective_max: [352103    472]\n",
      "iter_num: 33, objective_min: [151864    142], objective_mean: [250010.23867281    368.75801925], objective_max: [350091    472]\n",
      "iter_num: 34, objective_min: [119699    114], objective_mean: [247375.34534744    366.43690096], objective_max: [350091    472]\n",
      "iter_num: 35, objective_min: [137859    114], objective_mean: [249568.38557164    361.09865202], objective_max: [350091    470]\n",
      "iter_num: 36, objective_min: [137580    114], objective_mean: [249290.92820204    355.97459457], objective_max: [350456    460]\n",
      "iter_num: 37, objective_min: [120286    114], objective_mean: [236519.12080236    352.61633651], objective_max: [348822    460]\n",
      "iter_num: 38, objective_min: [120803     88], objective_mean: [234972.66827213    348.00491672], objective_max: [348822    456]\n",
      "iter_num: 39, objective_min: [117145     88], objective_mean: [238572.4076735     343.12128923], objective_max: [348822    466]\n",
      "iter_num: 40, objective_min: [137077     88], objective_mean: [238201.48530596    339.10295894], objective_max: [348822    466]\n",
      "iter_num: 41, objective_min: [122840     88], objective_mean: [235703.03056044    332.49047499], objective_max: [349576    452]\n",
      "iter_num: 42, objective_min: [133826     58], objective_mean: [229332.62561552    326.90714501], objective_max: [348552    446]\n",
      "iter_num: 43, objective_min: [123409     58], objective_mean: [224697.32274549    321.77284569], objective_max: [348552    448]\n",
      "iter_num: 44, objective_min: [108554     58], objective_mean: [228030.90807771    314.94241679], objective_max: [353430    452]\n",
      "iter_num: 45, objective_min: [121497     58], objective_mean: [228233.17147861    309.53905429], objective_max: [346956    452]\n",
      "iter_num: 46, objective_min: [124390     52], objective_mean: [233795.8715471     300.92805828], objective_max: [347472    452]\n",
      "iter_num: 47, objective_min: [125121     46], objective_mean: [223053.9206413     294.77016636], objective_max: [347492    430]\n",
      "iter_num: 48, objective_min: [122770     46], objective_mean: [221399.35871652    289.75391612], objective_max: [346955    434]\n",
      "iter_num: 49, objective_min: [120632     46], objective_mean: [219625.26722      283.9408877], objective_max: [340916    428]\n",
      "iter_num: 50, objective_min: [113419     46], objective_mean: [219849.17466082    276.44141827], objective_max: [348606    416]\n",
      "iter_num: 51, objective_min: [117475     40], objective_mean: [223901.27865783    271.65949694], objective_max: [348606    418]\n",
      "iter_num: 52, objective_min: [122634     30], objective_mean: [227690.37782486    264.77865214], objective_max: [347251    410]\n",
      "iter_num: 53, objective_min: [118237     30], objective_mean: [234404.10882635    259.19223968], objective_max: [347578    410]\n",
      "iter_num: 54, objective_min: [121169     30], objective_mean: [235054.8024089     254.25288408], objective_max: [353252    412]\n",
      "iter_num: 55, objective_min: [117741     30], objective_mean: [243565.88871249    248.43337089], objective_max: [350526    410]\n",
      "iter_num: 56, objective_min: [184012     30], objective_mean: [2.55833555e+05 2.44480293e+02], objective_max: [350526    410]\n",
      "iter_num: 57, objective_min: [157057     26], objective_mean: [2.56625698e+05 2.36817676e+02], objective_max: [347251    410]\n",
      "iter_num: 58, objective_min: [155439     26], objective_mean: [2.52861663e+05 2.35473593e+02], objective_max: [345680    422]\n",
      "iter_num: 59, objective_min: [157115     26], objective_mean: [2.50930243e+05 2.33240275e+02], objective_max: [345680    414]\n",
      "iter_num: 60, objective_min: [147734     16], objective_mean: [2.48446696e+05 2.32764504e+02], objective_max: [345680    414]\n",
      "iter_num: 61, objective_min: [150789     16], objective_mean: [2.50197317e+05 2.29533003e+02], objective_max: [341604    410]\n",
      "iter_num: 62, objective_min: [156829      4], objective_mean: [2.54170935e+05 2.22267234e+02], objective_max: [341604    410]\n",
      "iter_num: 63, objective_min: [140957     28], objective_mean: [2.46120204e+05 2.23049759e+02], objective_max: [338125    410]\n",
      "iter_num: 64, objective_min: [154262     30], objective_mean: [2.42033684e+05 2.21098854e+02], objective_max: [343628    414]\n",
      "iter_num: 65, objective_min: [154211      8], objective_mean: [2.38367711e+05 2.22535321e+02], objective_max: [346351    414]\n",
      "iter_num: 66, objective_min: [147734      8], objective_mean: [2.39526882e+05 2.16835906e+02], objective_max: [346351    410]\n",
      "iter_num: 67, objective_min: [138083      8], objective_mean: [2.43017772e+05 2.14952568e+02], objective_max: [346351    410]\n",
      "iter_num: 68, objective_min: [151883      8], objective_mean: [2.45188457e+05 2.07887765e+02], objective_max: [343629    406]\n",
      "iter_num: 69, objective_min: [119566      8], objective_mean: [2.47239097e+05 2.03444782e+02], objective_max: [338236    406]\n",
      "iter_num: 70, objective_min: [147675      8], objective_mean: [2.49989699e+05 1.96986819e+02], objective_max: [333523    402]\n",
      "iter_num: 71, objective_min: [151664      8], objective_mean: [2.54551332e+05 1.92146595e+02], objective_max: [333523    402]\n",
      "iter_num: 72, objective_min: [150451     12], objective_mean: [2.44919932e+05 1.93448355e+02], objective_max: [334376    402]\n",
      "iter_num: 73, objective_min: [152380     12], objective_mean: [2.44393195e+05 1.89072260e+02], objective_max: [341260    402]\n",
      "iter_num: 74, objective_min: [150604     12], objective_mean: [2.47611034e+05 1.82696639e+02], objective_max: [341260    402]\n",
      "iter_num: 75, objective_min: [121491     12], objective_mean: [2.49384373e+05 1.80644951e+02], objective_max: [341849    402]\n",
      "iter_num: 76, objective_min: [151126     12], objective_mean: [2.54986342e+05 1.80148183e+02], objective_max: [342247    402]\n",
      "iter_num: 77, objective_min: [149064     12], objective_mean: [2.60160660e+05 1.77733149e+02], objective_max: [343070    402]\n",
      "iter_num: 78, objective_min: [160107     12], objective_mean: [2.67550754e+05 1.71660215e+02], objective_max: [343728    402]\n",
      "iter_num: 79, objective_min: [151552     12], objective_mean: [2.75517682e+05 1.67527791e+02], objective_max: [343728    402]\n",
      "iter_num: 80, objective_min: [139494     12], objective_mean: [2.83576780e+05 1.60855993e+02], objective_max: [343728    402]\n",
      "iter_num: 81, objective_min: [186065     12], objective_mean: [2.84214593e+05 1.57826205e+02], objective_max: [333493    402]\n",
      "iter_num: 82, objective_min: [157002     12], objective_mean: [2.83780408e+05 1.55167392e+02], objective_max: [342816    402]\n",
      "iter_num: 83, objective_min: [186065     28], objective_mean: [2.83295033e+05 1.53999346e+02], objective_max: [348737    402]\n",
      "iter_num: 84, objective_min: [171607     28], objective_mean: [2.82239624e+05 1.57408309e+02], objective_max: [336056    402]\n",
      "iter_num: 85, objective_min: [125594     28], objective_mean: [2.82375685e+05 1.59609756e+02], objective_max: [333493    402]\n",
      "iter_num: 86, objective_min: [172451     34], objective_mean: [2.82265509e+05 1.61706841e+02], objective_max: [334659    408]\n",
      "iter_num: 87, objective_min: [177553     34], objective_mean: [2.81770932e+05 1.62726605e+02], objective_max: [334659    408]\n",
      "iter_num: 88, objective_min: [184664     34], objective_mean: [2.81512856e+05 1.63538505e+02], objective_max: [334659    408]\n",
      "iter_num: 89, objective_min: [184664     28], objective_mean: [2.81537484e+05 1.64756425e+02], objective_max: [334659    408]\n",
      "iter_num: 90, objective_min: [157002     34], objective_mean: [2.81296338e+05 1.64842057e+02], objective_max: [334659    408]\n",
      "iter_num: 91, objective_min: [182882     34], objective_mean: [2.81008334e+05 1.63959266e+02], objective_max: [334370    406]\n",
      "iter_num: 92, objective_min: [131091     50], objective_mean: [2.80358757e+05 1.65296505e+02], objective_max: [333707    406]\n",
      "iter_num: 93, objective_min: [177818     50], objective_mean: [2.79696923e+05 1.68111549e+02], objective_max: [335761    402]\n",
      "iter_num: 94, objective_min: [166598     34], objective_mean: [2.79722779e+05 1.69304374e+02], objective_max: [335761    396]\n",
      "iter_num: 95, objective_min: [123884     52], objective_mean: [2.79394612e+05 1.70328782e+02], objective_max: [335761    396]\n",
      "iter_num: 96, objective_min: [186065     52], objective_mean: [2.79488107e+05 1.70816501e+02], objective_max: [335761    396]\n",
      "iter_num: 97, objective_min: [119566     52], objective_mean: [2.78729368e+05 1.72363823e+02], objective_max: [335761    388]\n",
      "iter_num: 98, objective_min: [186065     52], objective_mean: [2.78549598e+05 1.73108361e+02], objective_max: [335761    388]\n",
      "iter_num: 99, objective_min: [128717     52], objective_mean: [2.78277236e+05 1.73701033e+02], objective_max: [335761    388]\n"
     ]
    }
   ],
   "source": [
    "\n",
    "for iter_num in range(iter_max):\n",
    "    # 产生下一代解\n",
    "    solution_crossover = crossover(solution, prob_crossover, restrict_func_hard)\n",
    "    solultion_mutate = mutate(solution, prob_mutate, num_building, restrict_func_soft)\n",
    "    solution = np.concatenate((solution, solution_crossover, solultion_mutate), axis=0)\n",
    "    # 评价解的目标值\n",
    "    objective = calculate_objective(solution, airline_transport_num, airline_union2d, num_building, num_airline_union)\n",
    "    # 计算拥挤度\n",
    "    crowding_distance = calculate_crowding_distance(objective)\n",
    "    # 选择\n",
    "    solution = selection(solution, objective, crowding_distance, num_population)\n",
    "\n",
    "    # 计算最优评价值和平均评价值\n",
    "    objective_min = np.min(objective, axis=0)\n",
    "    objective_mean = np.mean(objective, axis=0)\n",
    "    objective_max = np.max(objective, axis=0)\n",
    "    graph_data.loc[len(graph_data)]=objective_min\n",
    "    print('iter_num: %d, objective_min: %s, objective_mean: %s, objective_max: %s' % (iter_num, objective_min, objective_mean, objective_max))\n"
   ]
  },
  {
   "cell_type": "code",
   "execution_count": 69,
   "metadata": {},
   "outputs": [],
   "source": [
    "objective = calculate_objective(solution, airline_transport_num, airline_union2d, num_building, num_airline_union)\n",
    "index = np.lexsort(objective.T)\n",
    "solution = solution[index]\n",
    "objective = objective[index]"
   ]
  },
  {
   "cell_type": "code",
   "execution_count": 70,
   "metadata": {},
   "outputs": [
    {
     "data": {
      "image/png": "[encoded data removed]",
      "text/plain": [
       "<Figure size 640x480 with 1 Axes>"
      ]
     },
     "metadata": {},
     "output_type": "display_data"
    }
   ],
   "source": [
    "# plt.con\n",
    "plt.xlabel('people_num')\n",
    "plt.ylabel('airline')\n",
    "plt.scatter(graph_data['people_num'],graph_data['airline'])\n",
    "plt.show()"
   ]
  },
  {
   "cell_type": "code",
   "execution_count": 72,
   "metadata": {},
   "outputs": [],
   "source": [
    "graph_data2=graph_data.copy(deep=True)\n",
    "graph_set=pd.DataFrame(columns=['people_num','airline'])\n",
    "for item in graph_data.values.tolist():\n",
    "    graph_data2=graph_data2[(graph_data2['people_num']<=item[0]) | (graph_data2['airline']<=item[1])]"
   ]
  },
  {
   "cell_type": "code",
   "execution_count": 73,
   "metadata": {},
   "outputs": [
    {
     "data": {
      "image/png": "[encoded data removed]",
      "text/plain": [
       "<Figure size 640x480 with 1 Axes>"
      ]
     },
     "metadata": {},
     "output_type": "display_data"
    }
   ],
   "source": [
    "# plt.con\n",
    "plt.xlabel('people_num')\n",
    "plt.ylabel('airline')\n",
    "plt.scatter(graph_data2['people_num'],graph_data2['airline'])\n",
    "plt.show()"
   ]
  },
  {
   "cell_type": "code",
   "execution_count": 68,
   "metadata": {},
   "outputs": [],
   "source": [
    "\n",
    "np.savetxt('solution.csv', solution, delimiter=',', fmt='%d')"
   ]
  },
  {
   "cell_type": "code",
   "execution_count": null,
   "metadata": {},
   "outputs": [],
   "source": []
  }
 ],
 "metadata": {
  "kernelspec": {
   "display_name": "base",
   "language": "python",
   "name": "python3"
  },
  "language_info": {
   "codemirror_mode": {
    "name": "ipython",
    "version": 3
   },
   "file_extension": ".py",
   "mimetype": "text/x-python",
   "name": "python",
   "nbconvert_exporter": "python",
   "pygments_lexer": "ipython3",
   "version": "3.9.1"
  },
  "orig_nbformat": 4
 },
 "nbformat": 4,
 "nbformat_minor": 2
}
